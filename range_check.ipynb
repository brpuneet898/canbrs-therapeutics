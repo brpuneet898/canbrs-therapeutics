{
 "cells": [
  {
   "cell_type": "code",
   "execution_count": 25,
   "id": "d1fab95e",
   "metadata": {},
   "outputs": [],
   "source": [
    "import pandas as pd"
   ]
  },
  {
   "cell_type": "code",
   "execution_count": 26,
   "id": "4a8ad857",
   "metadata": {},
   "outputs": [],
   "source": [
    "df = pd.read_csv(\"./datasets/canbrs_dataset_polish.csv\")"
   ]
  },
  {
   "cell_type": "code",
   "execution_count": 27,
   "id": "0365e8e2",
   "metadata": {},
   "outputs": [],
   "source": [
    "expected_ranges = {\n",
    "    \"age\": (22, 85),\n",
    "    \"year_of_diagnosis\": (2010, 2021),\n",
    "    \"race\": {\"w1\", \"b2\", \"as3\", \"ain4\", \"r0\"},\n",
    "    \"marital_status\": {\"m1\", \"s3\", \"w5\", \"d4\", \"udp6\", \"s2\", \"m0\"},\n",
    "    \"primary_site\": (500, 509),\n",
    "    \"regional_nodes_positive\": (0, 99),\n",
    "    \"regional_nodes_examined\": (0, 99),\n",
    "    \"site_bone\": {\"No\", \"Yes\", \"Unknown\"},\n",
    "    \"site_brain\": {\"No\", \"Yes\", \"Unknown\"},\n",
    "    \"site_liver\": {\"No\", \"Yes\", \"Unknown\"},\n",
    "    \"site_lung\": {\"No\", \"Yes\", \"Unknown\"},\n",
    "    \"subtype\": {1, 2, 3, 4},\n",
    "    \"er_status\": {\"Positive\", \"Negative\", \"Unknown\", \"Borderline/Unknown\"},\n",
    "    \"pr_status\": {\"Positive\", \"Negative\", \"Unknown\", \"Borderline/Unknown\"},\n",
    "    \"her2_status\": {\"Positive\", \"Negative\", \"Unknown\"},\n",
    "}"
   ]
  },
  {
   "cell_type": "code",
   "execution_count": 28,
   "id": "f84afc52",
   "metadata": {},
   "outputs": [],
   "source": [
    "def check_numeric_range(series, min_val, max_val):\n",
    "    invalid = series[(series < min_val) | (series > max_val)]\n",
    "    return invalid"
   ]
  },
  {
   "cell_type": "code",
   "execution_count": 29,
   "id": "f6fbce2f",
   "metadata": {},
   "outputs": [],
   "source": [
    "def check_categorical_values(series, allowed_values):\n",
    "    invalid = series[~series.isin(allowed_values)]\n",
    "    return invalid"
   ]
  },
  {
   "cell_type": "code",
   "execution_count": 30,
   "id": "132ad013",
   "metadata": {},
   "outputs": [
    {
     "name": "stdout",
     "output_type": "stream",
     "text": [
      "\n",
      "Checking column: age\n",
      "  ✔ All values within expected range/domain.\n",
      "\n",
      "Checking column: year_of_diagnosis\n",
      "  ✔ All values within expected range/domain.\n",
      "\n",
      "Checking column: race\n",
      "  ✔ All values within expected range/domain.\n",
      "\n",
      "Checking column: marital_status\n",
      "  ✔ All values within expected range/domain.\n",
      "\n",
      "Checking column: primary_site\n",
      "  ✔ All values within expected range/domain.\n",
      "\n",
      "Checking column: regional_nodes_positive\n",
      "  ✔ All values within expected range/domain.\n",
      "\n",
      "Checking column: regional_nodes_examined\n",
      "  ✔ All values within expected range/domain.\n",
      "\n",
      "Checking column: site_bone\n",
      "  ✔ All values within expected range/domain.\n",
      "\n",
      "Checking column: site_brain\n",
      "  ✔ All values within expected range/domain.\n",
      "\n",
      "Checking column: site_liver\n",
      "  ✘ 1 invalid values found:\n",
      "Series([], Name: count, dtype: int64)\n",
      "\n",
      "Checking column: site_lung\n",
      "  ✔ All values within expected range/domain.\n",
      "\n",
      "Checking column: subtype\n",
      "  ✔ All values within expected range/domain.\n",
      "\n",
      "Checking column: er_status\n",
      "  ✔ All values within expected range/domain.\n",
      "\n",
      "Checking column: pr_status\n",
      "  ✔ All values within expected range/domain.\n",
      "\n",
      "Checking column: her2_status\n",
      "  ✔ All values within expected range/domain.\n"
     ]
    }
   ],
   "source": [
    "for column, rule in expected_ranges.items():\n",
    "    print(f\"\\nChecking column: {column}\")\n",
    "    if isinstance(rule, tuple):  \n",
    "        invalid_values = check_numeric_range(df[column], *rule)\n",
    "    else: \n",
    "        invalid_values = check_categorical_values(df[column], rule)\n",
    "    \n",
    "    if invalid_values.empty:\n",
    "        print(\"  ✔ All values within expected range/domain.\")\n",
    "    else:\n",
    "        print(f\"  ✘ {len(invalid_values)} invalid values found:\")\n",
    "        print(invalid_values.value_counts())"
   ]
  },
  {
   "cell_type": "markdown",
   "id": "2a0b3b3f",
   "metadata": {},
   "source": [
    "# Insight\n",
    "\n",
    "This notebook checks the ranges of values in the dataset against expected ranges defined in `expected_ranges`. It identifies any values that fall outside these ranges and reports them.\n",
    "\n",
    "It is found that there is one entry missing in the `site_liver` column, which is not included in the expected ranges. This entry is not considered an error but is noted for completeness."
   ]
  }
 ],
 "metadata": {
  "kernelspec": {
   "display_name": "venv",
   "language": "python",
   "name": "python3"
  },
  "language_info": {
   "codemirror_mode": {
    "name": "ipython",
    "version": 3
   },
   "file_extension": ".py",
   "mimetype": "text/x-python",
   "name": "python",
   "nbconvert_exporter": "python",
   "pygments_lexer": "ipython3",
   "version": "3.12.10"
  }
 },
 "nbformat": 4,
 "nbformat_minor": 5
}
