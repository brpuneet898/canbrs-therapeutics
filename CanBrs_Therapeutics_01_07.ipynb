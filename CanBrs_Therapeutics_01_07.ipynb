{
  "cells": [
    {
      "cell_type": "code",
      "source": [
        "import pandas as pd"
      ],
      "metadata": {
        "id": "4WnjfUq4KNs8"
      },
      "execution_count": 1,
      "outputs": []
    },
    {
      "cell_type": "code",
      "source": [
        "data = pd.read_csv(\"/content/canbrs_dataset.csv\")"
      ],
      "metadata": {
        "id": "pwAylQPKO3EI"
      },
      "execution_count": 2,
      "outputs": []
    },
    {
      "cell_type": "code",
      "source": [
        "data.head()"
      ],
      "metadata": {
        "colab": {
          "base_uri": "https://localhost:8080/",
          "height": 206
        },
        "id": "2Cv3J3vjP4oW",
        "outputId": "69c327ba-1de2-4ea4-fb1f-c470f16ad21f"
      },
      "execution_count": 3,
      "outputs": [
        {
          "output_type": "execute_result",
          "data": {
            "text/plain": [
              "   ID  V1  var2 var3 var4   V5  v6  v7       v8       v9      v10      v11  \\\n",
              "0  A1  77  2010   w1   m1  509  98   0  Unknown  Unknown  Unknown  Unknown   \n",
              "1  A2  82  2010   w1   w5  501  98   0      Yes       No       No       No   \n",
              "2  A3  42  2011   w1   s3  509  98   0      Yes       No      Yes      Yes   \n",
              "3  A4  72  2012   w1   w5  509  98   0       No       No       No      Yes   \n",
              "4  A5  85  2013   w1   w5  508  98   0      Yes       No       No       No   \n",
              "\n",
              "   v12       v13       v14       v15 Outcome  \n",
              "0    3  Positive  Negative  Negative    Dead  \n",
              "1    3  Positive  Negative  Negative    Dead  \n",
              "2    1  Negative  Negative  Negative    Dead  \n",
              "3    1  Negative  Negative  Negative    Dead  \n",
              "4    4  Positive  Positive  Positive    Dead  "
            ],
            "text/html": [
              "\n",
              "  <div id=\"df-f776e522-adfa-492c-a14d-04b80e2e2d29\" class=\"colab-df-container\">\n",
              "    <div>\n",
              "<style scoped>\n",
              "    .dataframe tbody tr th:only-of-type {\n",
              "        vertical-align: middle;\n",
              "    }\n",
              "\n",
              "    .dataframe tbody tr th {\n",
              "        vertical-align: top;\n",
              "    }\n",
              "\n",
              "    .dataframe thead th {\n",
              "        text-align: right;\n",
              "    }\n",
              "</style>\n",
              "<table border=\"1\" class=\"dataframe\">\n",
              "  <thead>\n",
              "    <tr style=\"text-align: right;\">\n",
              "      <th></th>\n",
              "      <th>ID</th>\n",
              "      <th>V1</th>\n",
              "      <th>var2</th>\n",
              "      <th>var3</th>\n",
              "      <th>var4</th>\n",
              "      <th>V5</th>\n",
              "      <th>v6</th>\n",
              "      <th>v7</th>\n",
              "      <th>v8</th>\n",
              "      <th>v9</th>\n",
              "      <th>v10</th>\n",
              "      <th>v11</th>\n",
              "      <th>v12</th>\n",
              "      <th>v13</th>\n",
              "      <th>v14</th>\n",
              "      <th>v15</th>\n",
              "      <th>Outcome</th>\n",
              "    </tr>\n",
              "  </thead>\n",
              "  <tbody>\n",
              "    <tr>\n",
              "      <th>0</th>\n",
              "      <td>A1</td>\n",
              "      <td>77</td>\n",
              "      <td>2010</td>\n",
              "      <td>w1</td>\n",
              "      <td>m1</td>\n",
              "      <td>509</td>\n",
              "      <td>98</td>\n",
              "      <td>0</td>\n",
              "      <td>Unknown</td>\n",
              "      <td>Unknown</td>\n",
              "      <td>Unknown</td>\n",
              "      <td>Unknown</td>\n",
              "      <td>3</td>\n",
              "      <td>Positive</td>\n",
              "      <td>Negative</td>\n",
              "      <td>Negative</td>\n",
              "      <td>Dead</td>\n",
              "    </tr>\n",
              "    <tr>\n",
              "      <th>1</th>\n",
              "      <td>A2</td>\n",
              "      <td>82</td>\n",
              "      <td>2010</td>\n",
              "      <td>w1</td>\n",
              "      <td>w5</td>\n",
              "      <td>501</td>\n",
              "      <td>98</td>\n",
              "      <td>0</td>\n",
              "      <td>Yes</td>\n",
              "      <td>No</td>\n",
              "      <td>No</td>\n",
              "      <td>No</td>\n",
              "      <td>3</td>\n",
              "      <td>Positive</td>\n",
              "      <td>Negative</td>\n",
              "      <td>Negative</td>\n",
              "      <td>Dead</td>\n",
              "    </tr>\n",
              "    <tr>\n",
              "      <th>2</th>\n",
              "      <td>A3</td>\n",
              "      <td>42</td>\n",
              "      <td>2011</td>\n",
              "      <td>w1</td>\n",
              "      <td>s3</td>\n",
              "      <td>509</td>\n",
              "      <td>98</td>\n",
              "      <td>0</td>\n",
              "      <td>Yes</td>\n",
              "      <td>No</td>\n",
              "      <td>Yes</td>\n",
              "      <td>Yes</td>\n",
              "      <td>1</td>\n",
              "      <td>Negative</td>\n",
              "      <td>Negative</td>\n",
              "      <td>Negative</td>\n",
              "      <td>Dead</td>\n",
              "    </tr>\n",
              "    <tr>\n",
              "      <th>3</th>\n",
              "      <td>A4</td>\n",
              "      <td>72</td>\n",
              "      <td>2012</td>\n",
              "      <td>w1</td>\n",
              "      <td>w5</td>\n",
              "      <td>509</td>\n",
              "      <td>98</td>\n",
              "      <td>0</td>\n",
              "      <td>No</td>\n",
              "      <td>No</td>\n",
              "      <td>No</td>\n",
              "      <td>Yes</td>\n",
              "      <td>1</td>\n",
              "      <td>Negative</td>\n",
              "      <td>Negative</td>\n",
              "      <td>Negative</td>\n",
              "      <td>Dead</td>\n",
              "    </tr>\n",
              "    <tr>\n",
              "      <th>4</th>\n",
              "      <td>A5</td>\n",
              "      <td>85</td>\n",
              "      <td>2013</td>\n",
              "      <td>w1</td>\n",
              "      <td>w5</td>\n",
              "      <td>508</td>\n",
              "      <td>98</td>\n",
              "      <td>0</td>\n",
              "      <td>Yes</td>\n",
              "      <td>No</td>\n",
              "      <td>No</td>\n",
              "      <td>No</td>\n",
              "      <td>4</td>\n",
              "      <td>Positive</td>\n",
              "      <td>Positive</td>\n",
              "      <td>Positive</td>\n",
              "      <td>Dead</td>\n",
              "    </tr>\n",
              "  </tbody>\n",
              "</table>\n",
              "</div>\n",
              "    <div class=\"colab-df-buttons\">\n",
              "\n",
              "  <div class=\"colab-df-container\">\n",
              "    <button class=\"colab-df-convert\" onclick=\"convertToInteractive('df-f776e522-adfa-492c-a14d-04b80e2e2d29')\"\n",
              "            title=\"Convert this dataframe to an interactive table.\"\n",
              "            style=\"display:none;\">\n",
              "\n",
              "  <svg xmlns=\"http://www.w3.org/2000/svg\" height=\"24px\" viewBox=\"0 -960 960 960\">\n",
              "    <path d=\"M120-120v-720h720v720H120Zm60-500h600v-160H180v160Zm220 220h160v-160H400v160Zm0 220h160v-160H400v160ZM180-400h160v-160H180v160Zm440 0h160v-160H620v160ZM180-180h160v-160H180v160Zm440 0h160v-160H620v160Z\"/>\n",
              "  </svg>\n",
              "    </button>\n",
              "\n",
              "  <style>\n",
              "    .colab-df-container {\n",
              "      display:flex;\n",
              "      gap: 12px;\n",
              "    }\n",
              "\n",
              "    .colab-df-convert {\n",
              "      background-color: #E8F0FE;\n",
              "      border: none;\n",
              "      border-radius: 50%;\n",
              "      cursor: pointer;\n",
              "      display: none;\n",
              "      fill: #1967D2;\n",
              "      height: 32px;\n",
              "      padding: 0 0 0 0;\n",
              "      width: 32px;\n",
              "    }\n",
              "\n",
              "    .colab-df-convert:hover {\n",
              "      background-color: #E2EBFA;\n",
              "      box-shadow: 0px 1px 2px rgba(60, 64, 67, 0.3), 0px 1px 3px 1px rgba(60, 64, 67, 0.15);\n",
              "      fill: #174EA6;\n",
              "    }\n",
              "\n",
              "    .colab-df-buttons div {\n",
              "      margin-bottom: 4px;\n",
              "    }\n",
              "\n",
              "    [theme=dark] .colab-df-convert {\n",
              "      background-color: #3B4455;\n",
              "      fill: #D2E3FC;\n",
              "    }\n",
              "\n",
              "    [theme=dark] .colab-df-convert:hover {\n",
              "      background-color: #434B5C;\n",
              "      box-shadow: 0px 1px 3px 1px rgba(0, 0, 0, 0.15);\n",
              "      filter: drop-shadow(0px 1px 2px rgba(0, 0, 0, 0.3));\n",
              "      fill: #FFFFFF;\n",
              "    }\n",
              "  </style>\n",
              "\n",
              "    <script>\n",
              "      const buttonEl =\n",
              "        document.querySelector('#df-f776e522-adfa-492c-a14d-04b80e2e2d29 button.colab-df-convert');\n",
              "      buttonEl.style.display =\n",
              "        google.colab.kernel.accessAllowed ? 'block' : 'none';\n",
              "\n",
              "      async function convertToInteractive(key) {\n",
              "        const element = document.querySelector('#df-f776e522-adfa-492c-a14d-04b80e2e2d29');\n",
              "        const dataTable =\n",
              "          await google.colab.kernel.invokeFunction('convertToInteractive',\n",
              "                                                    [key], {});\n",
              "        if (!dataTable) return;\n",
              "\n",
              "        const docLinkHtml = 'Like what you see? Visit the ' +\n",
              "          '<a target=\"_blank\" href=https://colab.research.google.com/notebooks/data_table.ipynb>data table notebook</a>'\n",
              "          + ' to learn more about interactive tables.';\n",
              "        element.innerHTML = '';\n",
              "        dataTable['output_type'] = 'display_data';\n",
              "        await google.colab.output.renderOutput(dataTable, element);\n",
              "        const docLink = document.createElement('div');\n",
              "        docLink.innerHTML = docLinkHtml;\n",
              "        element.appendChild(docLink);\n",
              "      }\n",
              "    </script>\n",
              "  </div>\n",
              "\n",
              "\n",
              "    <div id=\"df-9effb6d0-ea18-4a90-9a74-6f33b1ee1b02\">\n",
              "      <button class=\"colab-df-quickchart\" onclick=\"quickchart('df-9effb6d0-ea18-4a90-9a74-6f33b1ee1b02')\"\n",
              "                title=\"Suggest charts\"\n",
              "                style=\"display:none;\">\n",
              "\n",
              "<svg xmlns=\"http://www.w3.org/2000/svg\" height=\"24px\"viewBox=\"0 0 24 24\"\n",
              "     width=\"24px\">\n",
              "    <g>\n",
              "        <path d=\"M19 3H5c-1.1 0-2 .9-2 2v14c0 1.1.9 2 2 2h14c1.1 0 2-.9 2-2V5c0-1.1-.9-2-2-2zM9 17H7v-7h2v7zm4 0h-2V7h2v10zm4 0h-2v-4h2v4z\"/>\n",
              "    </g>\n",
              "</svg>\n",
              "      </button>\n",
              "\n",
              "<style>\n",
              "  .colab-df-quickchart {\n",
              "      --bg-color: #E8F0FE;\n",
              "      --fill-color: #1967D2;\n",
              "      --hover-bg-color: #E2EBFA;\n",
              "      --hover-fill-color: #174EA6;\n",
              "      --disabled-fill-color: #AAA;\n",
              "      --disabled-bg-color: #DDD;\n",
              "  }\n",
              "\n",
              "  [theme=dark] .colab-df-quickchart {\n",
              "      --bg-color: #3B4455;\n",
              "      --fill-color: #D2E3FC;\n",
              "      --hover-bg-color: #434B5C;\n",
              "      --hover-fill-color: #FFFFFF;\n",
              "      --disabled-bg-color: #3B4455;\n",
              "      --disabled-fill-color: #666;\n",
              "  }\n",
              "\n",
              "  .colab-df-quickchart {\n",
              "    background-color: var(--bg-color);\n",
              "    border: none;\n",
              "    border-radius: 50%;\n",
              "    cursor: pointer;\n",
              "    display: none;\n",
              "    fill: var(--fill-color);\n",
              "    height: 32px;\n",
              "    padding: 0;\n",
              "    width: 32px;\n",
              "  }\n",
              "\n",
              "  .colab-df-quickchart:hover {\n",
              "    background-color: var(--hover-bg-color);\n",
              "    box-shadow: 0 1px 2px rgba(60, 64, 67, 0.3), 0 1px 3px 1px rgba(60, 64, 67, 0.15);\n",
              "    fill: var(--button-hover-fill-color);\n",
              "  }\n",
              "\n",
              "  .colab-df-quickchart-complete:disabled,\n",
              "  .colab-df-quickchart-complete:disabled:hover {\n",
              "    background-color: var(--disabled-bg-color);\n",
              "    fill: var(--disabled-fill-color);\n",
              "    box-shadow: none;\n",
              "  }\n",
              "\n",
              "  .colab-df-spinner {\n",
              "    border: 2px solid var(--fill-color);\n",
              "    border-color: transparent;\n",
              "    border-bottom-color: var(--fill-color);\n",
              "    animation:\n",
              "      spin 1s steps(1) infinite;\n",
              "  }\n",
              "\n",
              "  @keyframes spin {\n",
              "    0% {\n",
              "      border-color: transparent;\n",
              "      border-bottom-color: var(--fill-color);\n",
              "      border-left-color: var(--fill-color);\n",
              "    }\n",
              "    20% {\n",
              "      border-color: transparent;\n",
              "      border-left-color: var(--fill-color);\n",
              "      border-top-color: var(--fill-color);\n",
              "    }\n",
              "    30% {\n",
              "      border-color: transparent;\n",
              "      border-left-color: var(--fill-color);\n",
              "      border-top-color: var(--fill-color);\n",
              "      border-right-color: var(--fill-color);\n",
              "    }\n",
              "    40% {\n",
              "      border-color: transparent;\n",
              "      border-right-color: var(--fill-color);\n",
              "      border-top-color: var(--fill-color);\n",
              "    }\n",
              "    60% {\n",
              "      border-color: transparent;\n",
              "      border-right-color: var(--fill-color);\n",
              "    }\n",
              "    80% {\n",
              "      border-color: transparent;\n",
              "      border-right-color: var(--fill-color);\n",
              "      border-bottom-color: var(--fill-color);\n",
              "    }\n",
              "    90% {\n",
              "      border-color: transparent;\n",
              "      border-bottom-color: var(--fill-color);\n",
              "    }\n",
              "  }\n",
              "</style>\n",
              "\n",
              "      <script>\n",
              "        async function quickchart(key) {\n",
              "          const quickchartButtonEl =\n",
              "            document.querySelector('#' + key + ' button');\n",
              "          quickchartButtonEl.disabled = true;  // To prevent multiple clicks.\n",
              "          quickchartButtonEl.classList.add('colab-df-spinner');\n",
              "          try {\n",
              "            const charts = await google.colab.kernel.invokeFunction(\n",
              "                'suggestCharts', [key], {});\n",
              "          } catch (error) {\n",
              "            console.error('Error during call to suggestCharts:', error);\n",
              "          }\n",
              "          quickchartButtonEl.classList.remove('colab-df-spinner');\n",
              "          quickchartButtonEl.classList.add('colab-df-quickchart-complete');\n",
              "        }\n",
              "        (() => {\n",
              "          let quickchartButtonEl =\n",
              "            document.querySelector('#df-9effb6d0-ea18-4a90-9a74-6f33b1ee1b02 button');\n",
              "          quickchartButtonEl.style.display =\n",
              "            google.colab.kernel.accessAllowed ? 'block' : 'none';\n",
              "        })();\n",
              "      </script>\n",
              "    </div>\n",
              "\n",
              "    </div>\n",
              "  </div>\n"
            ],
            "application/vnd.google.colaboratory.intrinsic+json": {
              "type": "dataframe",
              "variable_name": "data",
              "summary": "{\n  \"name\": \"data\",\n  \"rows\": 3000,\n  \"fields\": [\n    {\n      \"column\": \"ID\",\n      \"properties\": {\n        \"dtype\": \"string\",\n        \"num_unique_values\": 3000,\n        \"samples\": [\n          \"A1802\",\n          \"A1191\",\n          \"A1818\"\n        ],\n        \"semantic_type\": \"\",\n        \"description\": \"\"\n      }\n    },\n    {\n      \"column\": \"V1\",\n      \"properties\": {\n        \"dtype\": \"number\",\n        \"std\": 13,\n        \"min\": 22,\n        \"max\": 85,\n        \"num_unique_values\": 14,\n        \"samples\": [\n          47,\n          27,\n          77\n        ],\n        \"semantic_type\": \"\",\n        \"description\": \"\"\n      }\n    },\n    {\n      \"column\": \"var2\",\n      \"properties\": {\n        \"dtype\": \"number\",\n        \"std\": 3,\n        \"min\": 2010,\n        \"max\": 2021,\n        \"num_unique_values\": 12,\n        \"samples\": [\n          2019,\n          2014,\n          2010\n        ],\n        \"semantic_type\": \"\",\n        \"description\": \"\"\n      }\n    },\n    {\n      \"column\": \"var3\",\n      \"properties\": {\n        \"dtype\": \"category\",\n        \"num_unique_values\": 5,\n        \"samples\": [\n          \"b2\",\n          \"r0\",\n          \"as3\"\n        ],\n        \"semantic_type\": \"\",\n        \"description\": \"\"\n      }\n    },\n    {\n      \"column\": \"var4\",\n      \"properties\": {\n        \"dtype\": \"category\",\n        \"num_unique_values\": 7,\n        \"samples\": [\n          \"m1\",\n          \"w5\",\n          \"udp6\"\n        ],\n        \"semantic_type\": \"\",\n        \"description\": \"\"\n      }\n    },\n    {\n      \"column\": \"V5\",\n      \"properties\": {\n        \"dtype\": \"number\",\n        \"std\": 2,\n        \"min\": 500,\n        \"max\": 509,\n        \"num_unique_values\": 9,\n        \"samples\": [\n          506,\n          501,\n          502\n        ],\n        \"semantic_type\": \"\",\n        \"description\": \"\"\n      }\n    },\n    {\n      \"column\": \"v6\",\n      \"properties\": {\n        \"dtype\": \"number\",\n        \"std\": 22,\n        \"min\": 0,\n        \"max\": 99,\n        \"num_unique_values\": 27,\n        \"samples\": [\n          97,\n          23,\n          5\n        ],\n        \"semantic_type\": \"\",\n        \"description\": \"\"\n      }\n    },\n    {\n      \"column\": \"v7\",\n      \"properties\": {\n        \"dtype\": \"number\",\n        \"std\": 36,\n        \"min\": 0,\n        \"max\": 99,\n        \"num_unique_values\": 34,\n        \"samples\": [\n          7,\n          4,\n          22\n        ],\n        \"semantic_type\": \"\",\n        \"description\": \"\"\n      }\n    },\n    {\n      \"column\": \"v8\",\n      \"properties\": {\n        \"dtype\": \"category\",\n        \"num_unique_values\": 3,\n        \"samples\": [\n          \"Unknown\",\n          \"Yes\",\n          \"No\"\n        ],\n        \"semantic_type\": \"\",\n        \"description\": \"\"\n      }\n    },\n    {\n      \"column\": \"v9\",\n      \"properties\": {\n        \"dtype\": \"category\",\n        \"num_unique_values\": 3,\n        \"samples\": [\n          \"Unknown\",\n          \"No\",\n          \"Yes\"\n        ],\n        \"semantic_type\": \"\",\n        \"description\": \"\"\n      }\n    },\n    {\n      \"column\": \"v10\",\n      \"properties\": {\n        \"dtype\": \"category\",\n        \"num_unique_values\": 3,\n        \"samples\": [\n          \"Unknown\",\n          \"No\",\n          \"Yes\"\n        ],\n        \"semantic_type\": \"\",\n        \"description\": \"\"\n      }\n    },\n    {\n      \"column\": \"v11\",\n      \"properties\": {\n        \"dtype\": \"category\",\n        \"num_unique_values\": 3,\n        \"samples\": [\n          \"Unknown\",\n          \"No\",\n          \"Yes\"\n        ],\n        \"semantic_type\": \"\",\n        \"description\": \"\"\n      }\n    },\n    {\n      \"column\": \"v12\",\n      \"properties\": {\n        \"dtype\": \"number\",\n        \"std\": 0,\n        \"min\": 1,\n        \"max\": 4,\n        \"num_unique_values\": 4,\n        \"samples\": [\n          1,\n          2,\n          3\n        ],\n        \"semantic_type\": \"\",\n        \"description\": \"\"\n      }\n    },\n    {\n      \"column\": \"v13\",\n      \"properties\": {\n        \"dtype\": \"category\",\n        \"num_unique_values\": 3,\n        \"samples\": [\n          \"Positive\",\n          \"Negative\",\n          \"Borderline/Unknown\"\n        ],\n        \"semantic_type\": \"\",\n        \"description\": \"\"\n      }\n    },\n    {\n      \"column\": \"v14\",\n      \"properties\": {\n        \"dtype\": \"category\",\n        \"num_unique_values\": 3,\n        \"samples\": [\n          \"Negative\",\n          \"Positive\",\n          \"Borderline/Unknown\"\n        ],\n        \"semantic_type\": \"\",\n        \"description\": \"\"\n      }\n    },\n    {\n      \"column\": \"v15\",\n      \"properties\": {\n        \"dtype\": \"category\",\n        \"num_unique_values\": 2,\n        \"samples\": [\n          \"Positive\",\n          \"Negative\"\n        ],\n        \"semantic_type\": \"\",\n        \"description\": \"\"\n      }\n    },\n    {\n      \"column\": \"Outcome\",\n      \"properties\": {\n        \"dtype\": \"category\",\n        \"num_unique_values\": 2,\n        \"samples\": [\n          \"Alive\",\n          \"Dead\"\n        ],\n        \"semantic_type\": \"\",\n        \"description\": \"\"\n      }\n    }\n  ]\n}"
            }
          },
          "metadata": {},
          "execution_count": 3
        }
      ]
    },
    {
      "cell_type": "code",
      "source": [
        "counts = data.groupby(['var2', 'Outcome']).size().unstack(fill_value=0)\n",
        "\n",
        "counts['Total'] = counts.sum(axis=1)\n",
        "\n",
        "probabilities = counts.div(counts['Total'], axis=0)\n",
        "\n",
        "summary_table = counts.copy()\n",
        "summary_table['Prob_Dead'] = probabilities['Dead']\n",
        "summary_table['Prob_Alive'] = probabilities.get('Alive')\n",
        "\n",
        "summary_table['Prob_Dead'] = summary_table['Prob_Dead'].round(3)\n",
        "summary_table['Prob_Alive'] = summary_table['Prob_Alive'].round(3)\n",
        "\n",
        "print(summary_table)"
      ],
      "metadata": {
        "colab": {
          "base_uri": "https://localhost:8080/"
        },
        "id": "Ljq7FRymQ1FQ",
        "outputId": "dc315d8c-5e38-4d5b-8e9e-50e8c5e42fcc"
      },
      "execution_count": 6,
      "outputs": [
        {
          "output_type": "stream",
          "name": "stdout",
          "text": [
            "Outcome  Alive  Dead  Total  Prob_Dead  Prob_Alive\n",
            "var2                                              \n",
            "2010         2   160    162      0.988       0.012\n",
            "2011         5   206    211      0.976       0.024\n",
            "2012         7   191    198      0.965       0.035\n",
            "2013         7   180    187      0.963       0.037\n",
            "2014         1   223    224      0.996       0.004\n",
            "2015         8   211    219      0.963       0.037\n",
            "2016        11   213    224      0.951       0.049\n",
            "2017         8   207    215      0.963       0.037\n",
            "2018        12   227    239      0.950       0.050\n",
            "2019         8   200    208      0.962       0.038\n",
            "2020         6   253    259      0.977       0.023\n",
            "2021       445   209    654      0.320       0.680\n"
          ]
        }
      ]
    },
    {
      "cell_type": "code",
      "source": [
        "counts_var3 = data.groupby(['var3', 'Outcome']).size().unstack(fill_value=0)\n",
        "\n",
        "counts_var3['Total'] = counts_var3.sum(axis=1)\n",
        "\n",
        "probabilities_var3 = counts_var3.div(counts_var3['Total'], axis=0)\n",
        "\n",
        "summary_table_var3 = counts_var3.copy()\n",
        "summary_table_var3['Prob_Dead'] = probabilities_var3['Dead']\n",
        "summary_table_var3['Prob_Alive'] = probabilities_var3.get('Alive')\n",
        "\n",
        "summary_table_var3['Prob_Dead'] = summary_table_var3['Prob_Dead'].round(3)\n",
        "summary_table_var3['Prob_Alive'] = summary_table_var3['Prob_Alive'].round(3)\n",
        "\n",
        "print(summary_table_var3)"
      ],
      "metadata": {
        "colab": {
          "base_uri": "https://localhost:8080/"
        },
        "id": "9BHFfBLoR0Cu",
        "outputId": "78041eee-8aa1-4755-847d-d7e5a486ebf9"
      },
      "execution_count": 7,
      "outputs": [
        {
          "output_type": "stream",
          "name": "stdout",
          "text": [
            "Outcome  Alive  Dead  Total  Prob_Dead  Prob_Alive\n",
            "var3                                              \n",
            "ain4         4    16     20      0.800       0.200\n",
            "as3         68   176    244      0.721       0.279\n",
            "b2          76   454    530      0.857       0.143\n",
            "r0          14     8     22      0.364       0.636\n",
            "w1         358  1826   2184      0.836       0.164\n"
          ]
        }
      ]
    },
    {
      "cell_type": "code",
      "source": [
        "counts_var4 = data.groupby(['var4', 'Outcome']).size().unstack(fill_value=0)\n",
        "\n",
        "counts_var4['Total'] = counts_var4.sum(axis=1)\n",
        "\n",
        "probabilities_var4 = counts_var4.div(counts_var4['Total'], axis=0)\n",
        "\n",
        "summary_table_var4 = counts_var4.copy()\n",
        "summary_table_var4['Prob_Dead'] = probabilities_var4['Dead']\n",
        "summary_table_var4['Prob_Alive'] = probabilities_var4.get('Alive')\n",
        "\n",
        "summary_table_var4['Prob_Dead'] = summary_table_var4['Prob_Dead'].round(3)\n",
        "summary_table_var4['Prob_Alive'] = summary_table_var4['Prob_Alive'].round(3)\n",
        "\n",
        "print(summary_table_var4)"
      ],
      "metadata": {
        "colab": {
          "base_uri": "https://localhost:8080/"
        },
        "id": "y-aOJj2ySLK_",
        "outputId": "2311185b-8b81-4840-a939-32b78ea30a2a"
      },
      "execution_count": 8,
      "outputs": [
        {
          "output_type": "stream",
          "name": "stdout",
          "text": [
            "Outcome  Alive  Dead  Total  Prob_Dead  Prob_Alive\n",
            "var4                                              \n",
            "d4          50   318    368      0.864       0.136\n",
            "m0          32   147    179      0.821       0.179\n",
            "m1         214   861   1075      0.801       0.199\n",
            "s2           4    29     33      0.879       0.121\n",
            "s3         139   590    729      0.809       0.191\n",
            "udp6         2     8     10      0.800       0.200\n",
            "w5          79   527    606      0.870       0.130\n"
          ]
        }
      ]
    },
    {
      "cell_type": "code",
      "source": [
        "counts_v8 = data.groupby(['v8', 'Outcome']).size().unstack(fill_value=0)\n",
        "\n",
        "counts_v8['Total'] = counts_v8.sum(axis=1)\n",
        "\n",
        "probabilities_v8 = counts_v8.div(counts_v8['Total'], axis=0)\n",
        "\n",
        "summary_table_v8 = counts_v8.copy()\n",
        "summary_table_v8['Prob_Dead'] = probabilities_v8['Dead']\n",
        "summary_table_v8['Prob_Alive'] = probabilities_v8.get('Alive')\n",
        "\n",
        "summary_table_v8['Prob_Dead'] = summary_table_v8['Prob_Dead'].round(3)\n",
        "summary_table_v8['Prob_Alive'] = summary_table_v8['Prob_Alive'].round(3)\n",
        "\n",
        "print(summary_table_v8)"
      ],
      "metadata": {
        "colab": {
          "base_uri": "https://localhost:8080/"
        },
        "id": "DBSG_yJqSZQL",
        "outputId": "993cca1d-e0cf-4778-e186-184cd4632268"
      },
      "execution_count": 9,
      "outputs": [
        {
          "output_type": "stream",
          "name": "stdout",
          "text": [
            "Outcome  Alive  Dead  Total  Prob_Dead  Prob_Alive\n",
            "v8                                                \n",
            "No         169   786    955      0.823       0.177\n",
            "Unknown      8    62     70      0.886       0.114\n",
            "Yes        343  1632   1975      0.826       0.174\n"
          ]
        }
      ]
    },
    {
      "cell_type": "code",
      "source": [
        "counts_v9 = data.groupby(['v9', 'Outcome']).size().unstack(fill_value=0)\n",
        "\n",
        "counts_v9['Total'] = counts_v9.sum(axis=1)\n",
        "\n",
        "probabilities_v9 = counts_v9.div(counts_v9['Total'], axis=0)\n",
        "\n",
        "summary_table_v9 = counts_v9.copy()\n",
        "summary_table_v9['Prob_Dead'] = probabilities_v9['Dead']\n",
        "summary_table_v9['Prob_Alive'] = probabilities_v9.get('Alive')\n",
        "\n",
        "summary_table_v9['Prob_Dead'] = summary_table_v9['Prob_Dead'].round(3)\n",
        "summary_table_v9['Prob_Alive'] = summary_table_v9['Prob_Alive'].round(3)\n",
        "\n",
        "print(summary_table_v9)"
      ],
      "metadata": {
        "colab": {
          "base_uri": "https://localhost:8080/"
        },
        "id": "W-SY5NkdStYi",
        "outputId": "f793e2a2-e913-4d5a-8081-6b0d4a3cf5ba"
      },
      "execution_count": 10,
      "outputs": [
        {
          "output_type": "stream",
          "name": "stdout",
          "text": [
            "Outcome  Alive  Dead  Total  Prob_Dead  Prob_Alive\n",
            "v9                                                \n",
            "No         463  1985   2448      0.811       0.189\n",
            "Unknown     16   121    137      0.883       0.117\n",
            "Yes         41   374    415      0.901       0.099\n"
          ]
        }
      ]
    },
    {
      "cell_type": "code",
      "source": [
        "counts_v10 = data.groupby(['v10', 'Outcome']).size().unstack(fill_value=0)\n",
        "\n",
        "counts_v10['Total'] = counts_v10.sum(axis=1)\n",
        "\n",
        "probabilities_v10 = counts_v10.div(counts_v10['Total'], axis=0)\n",
        "\n",
        "summary_table_v10 = counts_v10.copy()\n",
        "summary_table_v10['Prob_Dead'] = probabilities_v10['Dead']\n",
        "summary_table_v10['Prob_Alive'] = probabilities_v10.get('Alive')\n",
        "\n",
        "summary_table_v10['Prob_Dead'] = summary_table_v10['Prob_Dead'].round(3)\n",
        "summary_table_v10['Prob_Alive'] = summary_table_v10['Prob_Alive'].round(3)\n",
        "\n",
        "print(summary_table_v10)"
      ],
      "metadata": {
        "colab": {
          "base_uri": "https://localhost:8080/"
        },
        "id": "LmXnqC3RTUyV",
        "outputId": "26e61b90-64fe-4f29-81b3-6c9b8f447bdb"
      },
      "execution_count": 11,
      "outputs": [
        {
          "output_type": "stream",
          "name": "stdout",
          "text": [
            "Outcome  Alive  Dead  Total  Prob_Dead  Prob_Alive\n",
            "v10                                               \n",
            "No         376  1286   1662      0.774       0.226\n",
            "Unknown     12    90    102      0.882       0.118\n",
            "Yes        132  1103   1235      0.893       0.107\n"
          ]
        }
      ]
    },
    {
      "cell_type": "code",
      "source": [
        "counts_v11 = data.groupby(['v11', 'Outcome']).size().unstack(fill_value=0)\n",
        "\n",
        "counts_v11['Total'] = counts_v11.sum(axis=1)\n",
        "\n",
        "probabilities_v11 = counts_v11.div(counts_v11['Total'], axis=0)\n",
        "\n",
        "summary_table_v11 = counts_v11.copy()\n",
        "summary_table_v11['Prob_Dead'] = probabilities_v11['Dead']\n",
        "summary_table_v11['Prob_Alive'] = probabilities_v11.get('Alive')\n",
        "\n",
        "summary_table_v11['Prob_Dead'] = summary_table_v11['Prob_Dead'].round(3)\n",
        "summary_table_v11['Prob_Alive'] = summary_table_v11['Prob_Alive'].round(3)\n",
        "\n",
        "print(summary_table_v11)"
      ],
      "metadata": {
        "colab": {
          "base_uri": "https://localhost:8080/"
        },
        "id": "BFV3eY6BTwfP",
        "outputId": "3c527925-26dd-4e5c-a5f5-f2df98d8708f"
      },
      "execution_count": 12,
      "outputs": [
        {
          "output_type": "stream",
          "name": "stdout",
          "text": [
            "Outcome  Alive  Dead  Total  Prob_Dead  Prob_Alive\n",
            "v11                                               \n",
            "No         363  1324   1687      0.785       0.215\n",
            "Unknown     12   110    122      0.902       0.098\n",
            "Yes        145  1046   1191      0.878       0.122\n"
          ]
        }
      ]
    },
    {
      "cell_type": "code",
      "source": [
        "counts_v12 = data.groupby(['v12', 'Outcome']).size().unstack(fill_value=0)\n",
        "\n",
        "counts_v12['Total'] = counts_v12.sum(axis=1)\n",
        "\n",
        "probabilities_v12 = counts_v12.div(counts_v12['Total'], axis=0)\n",
        "\n",
        "summary_table_v12 = counts_v12.copy()\n",
        "summary_table_v12['Prob_Dead'] = probabilities_v12['Dead']\n",
        "summary_table_v12['Prob_Alive'] = probabilities_v12.get('Alive')\n",
        "\n",
        "summary_table_v12['Prob_Dead'] = summary_table_v12['Prob_Dead'].round(3)\n",
        "summary_table_v12['Prob_Alive'] = summary_table_v12['Prob_Alive'].round(3)\n",
        "\n",
        "print(summary_table_v12)"
      ],
      "metadata": {
        "colab": {
          "base_uri": "https://localhost:8080/"
        },
        "id": "UzEeQV8HUKef",
        "outputId": "d75fd805-031b-4d78-b599-4498a649e5fc"
      },
      "execution_count": 13,
      "outputs": [
        {
          "output_type": "stream",
          "name": "stdout",
          "text": [
            "Outcome  Alive  Dead  Total  Prob_Dead  Prob_Alive\n",
            "v12                                               \n",
            "1           89   500    589      0.849       0.151\n",
            "2           35   299    334      0.895       0.105\n",
            "3          323  1289   1612      0.800       0.200\n",
            "4           73   392    465      0.843       0.157\n"
          ]
        }
      ]
    }
  ],
  "metadata": {
    "colab": {
      "provenance": []
    },
    "kernelspec": {
      "display_name": "Python 3",
      "name": "python3"
    },
    "language_info": {
      "name": "python"
    }
  },
  "nbformat": 4,
  "nbformat_minor": 0
}